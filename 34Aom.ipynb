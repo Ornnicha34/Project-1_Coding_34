{
  "nbformat": 4,
  "nbformat_minor": 0,
  "metadata": {
    "colab": {
      "provenance": [],
      "authorship_tag": "ABX9TyPFanaBe3n6nEFo0FAW5SWj",
      "include_colab_link": true
    },
    "kernelspec": {
      "name": "python3",
      "display_name": "Python 3"
    },
    "language_info": {
      "name": "python"
    }
  },
  "cells": [
    {
      "cell_type": "markdown",
      "metadata": {
        "id": "view-in-github",
        "colab_type": "text"
      },
      "source": [
        "<a href=\"https://colab.research.google.com/github/Ornnicha34/Project-1_Coding_34/blob/main/34Aom.ipynb\" target=\"_parent\"><img src=\"https://colab.research.google.com/assets/colab-badge.svg\" alt=\"Open In Colab\"/></a>"
      ]
    },
    {
      "cell_type": "markdown",
      "source": [
        "### เลขที่ 34 ออม อรณิชา บุญเขียว\n",
        "No.34 Aom Ornnicha Boonkhiao"
      ],
      "metadata": {
        "id": "ADdNnN6ncXHS"
      }
    },
    {
      "cell_type": "markdown",
      "source": [
        "20 พฤษภาคม 2567\n",
        "\n",
        "*   print\n",
        "*   data type\n",
        "*   type\n",
        "*   การเขียนแนะนำตัวและการใส่ตัว ดับเบิ้ลโคดและซิงเกิ้ลโคด\n",
        "\n",
        "\n",
        "\n",
        "\n"
      ],
      "metadata": {
        "id": "YeZ8SNOh_LaW"
      }
    },
    {
      "cell_type": "code",
      "source": [
        "print(\"สวัสดีเราชื่อ ออม นะ\")"
      ],
      "metadata": {
        "colab": {
          "base_uri": "https://localhost:8080/"
        },
        "id": "JEj2i5UoBOy-",
        "outputId": "0541804e-0f59-4d11-f2d3-67ff95f8ea9f"
      },
      "execution_count": null,
      "outputs": [
        {
          "output_type": "stream",
          "name": "stdout",
          "text": [
            "สวัสดีเราชื่อ ออม นะ\n"
          ]
        }
      ]
    },
    {
      "cell_type": "code",
      "source": [
        "print(5+5)"
      ],
      "metadata": {
        "colab": {
          "base_uri": "https://localhost:8080/"
        },
        "id": "PQXoBXVsE7T_",
        "outputId": "9c62112e-7163-40c1-8861-33d2322dc2a4"
      },
      "execution_count": null,
      "outputs": [
        {
          "output_type": "stream",
          "name": "stdout",
          "text": [
            "10\n"
          ]
        }
      ]
    },
    {
      "cell_type": "code",
      "source": [
        "print(\"5+3\")"
      ],
      "metadata": {
        "colab": {
          "base_uri": "https://localhost:8080/"
        },
        "id": "YRnX_ixaFB8v",
        "outputId": "f3a411f3-87ca-45b1-c38d-892e3e7e76cd"
      },
      "execution_count": null,
      "outputs": [
        {
          "output_type": "stream",
          "name": "stdout",
          "text": [
            "5+3\n"
          ]
        }
      ]
    },
    {
      "cell_type": "code",
      "source": [
        "a=2.4\n",
        "b=2.5\n",
        "c = a + b\n",
        "print(f\"2.4 + 2.5 = {c:.4f}\")"
      ],
      "metadata": {
        "colab": {
          "base_uri": "https://localhost:8080/"
        },
        "id": "bANfcP-yGSPw",
        "outputId": "b8abb80b-09fe-464a-e352-f53dfddc5ec2"
      },
      "execution_count": null,
      "outputs": [
        {
          "output_type": "stream",
          "name": "stdout",
          "text": [
            "2.4 + 2.5 = 4.9000\n"
          ]
        }
      ]
    },
    {
      "cell_type": "markdown",
      "source": [
        "29 May 2024\n",
        "\n",
        "\n",
        "*   ได้รู้จักว่าตัวแปรคืออะไร\n",
        "*   ได้รู้การตั้งชื่อตัวแปรว่าควรเรียกเก็บค่าแบบไหนเหมาะสม\n",
        "*   คำสั่ง type บอกประเภทของตัวแปร\n",
        "\n"
      ],
      "metadata": {
        "id": "XYIu1hR3ZLE6"
      }
    },
    {
      "cell_type": "code",
      "source": [
        "a=2\n",
        "b=1.5\n",
        "c=\"Aom\"\n",
        "\n",
        "type(c)\n",
        "\n",
        "print(\"ตัวแปรที่ฉันคิด คือ a\")"
      ],
      "metadata": {
        "colab": {
          "base_uri": "https://localhost:8080/"
        },
        "id": "JZsRbw_CY1tM",
        "outputId": "25d5502d-7fdf-43c1-b1d9-b2eed5a0bbd9"
      },
      "execution_count": null,
      "outputs": [
        {
          "output_type": "stream",
          "name": "stdout",
          "text": [
            "ตัวแปรที่ฉันคิด คือ a\n"
          ]
        }
      ]
    },
    {
      "cell_type": "code",
      "source": [
        "numeric1=5\n",
        "type(numeric1)\n",
        "print(\"numeric1\")"
      ],
      "metadata": {
        "colab": {
          "base_uri": "https://localhost:8080/"
        },
        "id": "6RUBexffkQjg",
        "outputId": "bd388273-0196-43a8-929a-94681e9af3a0"
      },
      "execution_count": null,
      "outputs": [
        {
          "output_type": "stream",
          "name": "stdout",
          "text": [
            "numeric1\n"
          ]
        }
      ]
    },
    {
      "cell_type": "markdown",
      "source": [
        "5 มิถุนายน 2567\n",
        "\n",
        "*   string คือ ตัวอักษร\n",
        "*   index คือ การจัดลำดับข้อมูล เริ่มนับจากศูนย์ โดยที่นับอักษรตัวแรกโดยเริ่มที่0แต่ถ้านับเป็นจำนวนติดลบให้นับตัวสุดท้ายด้วย-1\n",
        "\n"
      ],
      "metadata": {
        "id": "j05eSbQgWanx"
      }
    },
    {
      "cell_type": "code",
      "source": [
        "string1=\"Python\"\n",
        "print(string1[0])"
      ],
      "metadata": {
        "colab": {
          "base_uri": "https://localhost:8080/"
        },
        "id": "kvizV9bvYdCo",
        "outputId": "f49a6a69-100f-4e6b-d6c3-eb966b249e81"
      },
      "execution_count": null,
      "outputs": [
        {
          "output_type": "stream",
          "name": "stdout",
          "text": [
            "P\n"
          ]
        }
      ]
    },
    {
      "cell_type": "markdown",
      "source": [
        "input คำสั่งที่รับเข้ามา คือprint\n",
        "\n",
        "process ประมวลคำสั่ง คือการรันcode\n",
        "\n",
        "output สิ่งที่แสดงออกมา คือผลลัพธ์ที่ได้ออกมา เช่น ตัวP\n"
      ],
      "metadata": {
        "id": "elNxJe_9fz0Q"
      }
    },
    {
      "cell_type": "markdown",
      "source": [
        "26/06/2024\n",
        "\n",
        "input"
      ],
      "metadata": {
        "id": "eGUiFTRptyee"
      }
    },
    {
      "cell_type": "code",
      "source": [
        "name =input(\"ระบุชื่อของตนเอง\")\n",
        "print(\"ยินดีที่ได้รู้จัก\",name)"
      ],
      "metadata": {
        "colab": {
          "base_uri": "https://localhost:8080/"
        },
        "id": "Eu5YQ7WUupNF",
        "outputId": "8a1d481b-24af-49d0-bdbb-144560e64bb1"
      },
      "execution_count": null,
      "outputs": [
        {
          "output_type": "stream",
          "name": "stdout",
          "text": [
            "ระบุชื่อของตนเองออม\n",
            "ยินดีที่ได้รู้จัก ออม\n"
          ]
        }
      ]
    },
    {
      "cell_type": "code",
      "source": [
        "side = int(input(\"ความยาวด้าน (ซม.) คือ\"))\n",
        "area = side*side\n",
        "print(\"พื้นที่สีเหลี่ยม เท่ากับ\", area,\"ตร.ซม\")"
      ],
      "metadata": {
        "colab": {
          "base_uri": "https://localhost:8080/"
        },
        "id": "Q57dR6-kzOBt",
        "outputId": "5c63d314-7966-44f4-aaca-5f0275c37dc7"
      },
      "execution_count": null,
      "outputs": [
        {
          "output_type": "stream",
          "name": "stdout",
          "text": [
            "ความยาวด้าน (ซม.) คือ5\n",
            "พื้นที่สีเหลี่ยม เท่ากับ 25 ตร.ซม\n"
          ]
        }
      ]
    },
    {
      "cell_type": "markdown",
      "source": [
        "1 July 2024"
      ],
      "metadata": {
        "id": "aHvkPWMJRE2p"
      }
    },
    {
      "cell_type": "code",
      "source": [
        "side = int(input(\"ความยาวด้าน(ซม.)คือ\"))\n",
        "wide = int (input(\"ความกว้าง(ซม.)คือ\"))\n",
        "area =side*wide\n",
        "print(\"พื้นที่สีเหลี่ยมผืนผ้า เท่ากับ\", area,\"ตร.ซม\")"
      ],
      "metadata": {
        "colab": {
          "base_uri": "https://localhost:8080/"
        },
        "id": "2ExXFBBuPq0P",
        "outputId": "716d55d8-0f4b-49e3-d816-3c5c3e043fec"
      },
      "execution_count": null,
      "outputs": [
        {
          "output_type": "stream",
          "name": "stdout",
          "text": [
            "ความยาวด้าน(ซม.)คือ5\n",
            "ความกว้าง(ซม.)คือ8\n",
            "พื้นที่สีเหลี่ยมผืนผ้า เท่ากับ 40 ตร.ซม\n"
          ]
        }
      ]
    },
    {
      "cell_type": "code",
      "source": [
        "s = int(input(\"ระยะทาง (เมตร) มีค่าเท่ากับ\"))\n",
        "t = int(input(\"เวลา (วินาที) มีค่าเท่ากับ\"))\n",
        "v= s/t\n",
        "print(\"ความเร็ว (เมตร/วินาที) มีค่าเท่ากับ\", a)"
      ],
      "metadata": {
        "colab": {
          "base_uri": "https://localhost:8080/"
        },
        "id": "lYJDrMKaRu1e",
        "outputId": "e37b51e8-9ba2-439e-af66-2c19e867fcda"
      },
      "execution_count": null,
      "outputs": [
        {
          "output_type": "stream",
          "name": "stdout",
          "text": [
            "ระยะทาง (เมตร) มีค่าเท่ากับ5\n",
            "เวลา (วินาที) มีค่าเท่ากับ10\n",
            "ความเร็ว (เมตร/วินาที) มีค่าเท่ากับ 0.5\n"
          ]
        }
      ]
    },
    {
      "cell_type": "code",
      "source": [
        "weight = float(input(\"น้ำหนัก (กิโลกรัม) มีค่าเท่ากับ\"))\n",
        "height = float(input(\"ส่วนสูง (เมตร) มีค่าเท่ากับ\"))\n",
        "bmi = weight/height**2\n",
        "print(\"ค่าดัชนีมวลกาย เท่ากับ \",bmi,\" (kg/m2)\")"
      ],
      "metadata": {
        "colab": {
          "base_uri": "https://localhost:8080/"
        },
        "id": "Wg3u7q7OYt9f",
        "outputId": "7891d957-4c5c-4a20-9933-247ad1012fcb"
      },
      "execution_count": null,
      "outputs": [
        {
          "output_type": "stream",
          "name": "stdout",
          "text": [
            "น้ำหนัก (กิโลกรัม) มีค่าเท่ากับ50\n",
            "ส่วนสูง (เมตร) มีค่าเท่ากับ1.6\n",
            "ค่าดัชนีมวลกาย เท่ากับ  19.531249999999996  (kg/m2)\n"
          ]
        }
      ]
    },
    {
      "cell_type": "code",
      "source": [
        "print=(\"โปรแกรมคำนวณค่าดัชนีมวลกาย By Aom ja\")\n",
        "name = input(\"กรอกชื่อของคุณ \")\n",
        "print=(\"hello\",name,)\n",
        "weight = float(input(\"น้ำหนักตัว (กก.) เท่ากับ \"))\n",
        "height = float(input(\"ส่วนสูง (เมตร) เท่ากับ \"))\n",
        "bmi = weight / height**2\n",
        "print=(\"ค่าดัชนีมวลกายเท่ากับ \" ,bmi,)"
      ],
      "metadata": {
        "id": "Yo2T7OLZf_df",
        "colab": {
          "base_uri": "https://localhost:8080/"
        },
        "outputId": "d28222db-5fbf-4f85-c7d6-3c743db0dcc4"
      },
      "execution_count": null,
      "outputs": [
        {
          "name": "stdout",
          "output_type": "stream",
          "text": [
            "กรอกชื่อของคุณ ออม\n",
            "น้ำหนักตัว (กก.) เท่ากับ 50\n",
            "ส่วนสูง (เมตร) เท่ากับ 1.6\n"
          ]
        }
      ]
    },
    {
      "cell_type": "code",
      "source": [
        "weight = float(input(\"น้ำหนัก (กิโลกรัม) มีค่าเท่ากับ\"))\n",
        "height = float(input(\"ส่วนสูง (เมตร) มีค่าเท่ากับ\"))\n",
        "bmi = weight/height**2"
      ],
      "metadata": {
        "id": "vv-bldTdhONN"
      },
      "execution_count": null,
      "outputs": []
    }
  ]
}